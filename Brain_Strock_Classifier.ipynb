{
  "nbformat": 4,
  "nbformat_minor": 0,
  "metadata": {
    "colab": {
      "provenance": [],
      "gpuType": "T4",
      "authorship_tag": "ABX9TyM114ZiiC5QiLWLXAwzgOND"
    },
    "kernelspec": {
      "name": "python3",
      "display_name": "Python 3"
    },
    "language_info": {
      "name": "python"
    },
    "accelerator": "GPU"
  },
  "cells": [
    {
      "cell_type": "code",
      "execution_count": 20,
      "metadata": {
        "id": "2yrPQOVTaJZ_"
      },
      "outputs": [],
      "source": [
        "import os\n",
        "import numpy as np\n",
        "import tensorflow as tf\n",
        "import matplotlib.pyplot as plt\n",
        "import kagglehub as kh\n",
        "import tensorflow as tf\n",
        "from tensorflow.keras.preprocessing.image import ImageDataGenerator\n",
        "from keras import layers, models\n",
        "from keras.applications import ResNet50\n",
        "from keras.applications.resnet50 import preprocess_input\n",
        "from sklearn.metrics import classification_report, confusion_matrix, roc_auc_score, roc_curve\n",
        "import seaborn as sns"
      ]
    },
    {
      "cell_type": "code",
      "source": [
        "path = kh.dataset_download(\"afridirahman/brain-stroke-ct-image-dataset\")\n",
        "\n",
        "print(\"Path to dataset files:\", path)\n"
      ],
      "metadata": {
        "colab": {
          "base_uri": "https://localhost:8080/"
        },
        "id": "HmfJ1WJaawXq",
        "outputId": "f73db8b5-e3f7-42fc-c853-43e695ba5c75"
      },
      "execution_count": 2,
      "outputs": [
        {
          "output_type": "stream",
          "name": "stdout",
          "text": [
            "Using Colab cache for faster access to the 'brain-stroke-ct-image-dataset' dataset.\n",
            "Path to dataset files: /kaggle/input/brain-stroke-ct-image-dataset\n"
          ]
        }
      ]
    },
    {
      "cell_type": "code",
      "source": [
        "base_path =os.path.join(path, 'Brain_Data_Organised')\n",
        "print(os.listdir(base_path))"
      ],
      "metadata": {
        "colab": {
          "base_uri": "https://localhost:8080/"
        },
        "id": "cVIctSGtbogR",
        "outputId": "c67a0bf3-b59f-4d7c-8a75-56687a872698"
      },
      "execution_count": 3,
      "outputs": [
        {
          "output_type": "stream",
          "name": "stdout",
          "text": [
            "['Stroke', 'Normal']\n"
          ]
        }
      ]
    },
    {
      "cell_type": "code",
      "source": [
        "data_dir = base_path"
      ],
      "metadata": {
        "id": "Xb5hR4GIcC3A"
      },
      "execution_count": 4,
      "outputs": []
    },
    {
      "cell_type": "code",
      "source": [
        "img_size = (224, 224)    # ResNet50 expected input\n",
        "batch_size = 16          # reduce if you have limited GPU memory\n",
        "seed = 42\n",
        "epochs = 10"
      ],
      "metadata": {
        "id": "StaZi8TbcIKO"
      },
      "execution_count": 5,
      "outputs": []
    },
    {
      "cell_type": "code",
      "source": [
        "# 2) Data generators (train / val / test split)\n",
        "# We will use ImageDataGenerator with validation_split for a quick split.\n",
        "\n",
        "train_datagen = ImageDataGenerator(\n",
        "    preprocessing_function = preprocess_input,\n",
        "    rescale=None,\n",
        "    rotation_range=10,\n",
        "    validation_split=0.2,\n",
        "    zoom_range=0.2,\n",
        "    horizontal_flip=True,\n",
        "    width_shift_range=0.05,\n",
        "    height_shift_range=0.05,\n",
        "    fill_mode='nearest'\n",
        ")\n",
        "\n",
        "test_datagen = ImageDataGenerator(\n",
        "    preprocessing_function=preprocess_input\n",
        ")\n"
      ],
      "metadata": {
        "id": "cplH1ZjxcK6e"
      },
      "execution_count": 6,
      "outputs": []
    },
    {
      "cell_type": "code",
      "source": [
        "train_generator = train_datagen.flow_from_directory(\n",
        "    data_dir,\n",
        "    target_size=img_size,\n",
        "    batch_size=batch_size,\n",
        "    class_mode='binary',\n",
        "    subset='training',\n",
        "    shuffle=True,\n",
        "    seed = seed,\n",
        "    color_mode='rgb'\n",
        ")\n",
        "\n",
        "val_generator = train_datagen.flow_from_directory(\n",
        "    data_dir,\n",
        "    target_size=img_size,\n",
        "    batch_size=batch_size,\n",
        "    class_mode='binary',\n",
        "    subset='validation',\n",
        "    shuffle=True,\n",
        "    seed = seed,\n",
        "    color_mode='rgb'\n",
        ")\n",
        "\n",
        "# we'll use the validation set as 'val' and later show evaluation on it."
      ],
      "metadata": {
        "colab": {
          "base_uri": "https://localhost:8080/"
        },
        "id": "nBrDH0xEhwi5",
        "outputId": "e30ad018-9205-4774-c87c-444f7e50b520"
      },
      "execution_count": 7,
      "outputs": [
        {
          "output_type": "stream",
          "name": "stdout",
          "text": [
            "Found 2001 images belonging to 2 classes.\n",
            "Found 500 images belonging to 2 classes.\n"
          ]
        }
      ]
    },
    {
      "cell_type": "code",
      "source": [
        "print(\"Class indices:\", train_generator.class_indices)"
      ],
      "metadata": {
        "colab": {
          "base_uri": "https://localhost:8080/"
        },
        "id": "MWqlGhNZilK4",
        "outputId": "07e2004e-e2d6-4905-a999-03582d54a9a0"
      },
      "execution_count": 8,
      "outputs": [
        {
          "output_type": "stream",
          "name": "stdout",
          "text": [
            "Class indices: {'Normal': 0, 'Stroke': 1}\n"
          ]
        }
      ]
    },
    {
      "cell_type": "code",
      "source": [
        "base_model = ResNet50(weights='imagenet', include_top=False, input_shape=(224, 224, 3))\n",
        "base_model.trainable = False  # Freeze the base model\n",
        "\n",
        "model = models.Sequential([\n",
        "    base_model,\n",
        "    layers.GlobalAveragePooling2D(),\n",
        "    layers.Dense(128, activation='relu'),\n",
        "    layers.Dropout(0.5),\n",
        "    layers.Dense(1, activation='sigmoid')\n",
        "])"
      ],
      "metadata": {
        "id": "K7NrAn22qGiI"
      },
      "execution_count": 14,
      "outputs": []
    },
    {
      "cell_type": "code",
      "source": [
        "model.compile(\n",
        "    optimizer='adam',\n",
        "    loss='binary_crossentropy',\n",
        "    metrics=['accuracy']\n",
        ")\n",
        "\n",
        "model.summary()"
      ],
      "metadata": {
        "colab": {
          "base_uri": "https://localhost:8080/",
          "height": 318
        },
        "id": "DI6Ezm7yjDcH",
        "outputId": "a75cefe7-7707-4843-dc92-501c20744704"
      },
      "execution_count": 15,
      "outputs": [
        {
          "output_type": "display_data",
          "data": {
            "text/plain": [
              "\u001b[1mModel: \"sequential_1\"\u001b[0m\n"
            ],
            "text/html": [
              "<pre style=\"white-space:pre;overflow-x:auto;line-height:normal;font-family:Menlo,'DejaVu Sans Mono',consolas,'Courier New',monospace\"><span style=\"font-weight: bold\">Model: \"sequential_1\"</span>\n",
              "</pre>\n"
            ]
          },
          "metadata": {}
        },
        {
          "output_type": "display_data",
          "data": {
            "text/plain": [
              "┏━━━━━━━━━━━━━━━━━━━━━━━━━━━━━━━━━┳━━━━━━━━━━━━━━━━━━━━━━━━┳━━━━━━━━━━━━━━━┓\n",
              "┃\u001b[1m \u001b[0m\u001b[1mLayer (type)                   \u001b[0m\u001b[1m \u001b[0m┃\u001b[1m \u001b[0m\u001b[1mOutput Shape          \u001b[0m\u001b[1m \u001b[0m┃\u001b[1m \u001b[0m\u001b[1m      Param #\u001b[0m\u001b[1m \u001b[0m┃\n",
              "┡━━━━━━━━━━━━━━━━━━━━━━━━━━━━━━━━━╇━━━━━━━━━━━━━━━━━━━━━━━━╇━━━━━━━━━━━━━━━┩\n",
              "│ resnet50 (\u001b[38;5;33mFunctional\u001b[0m)           │ (\u001b[38;5;45mNone\u001b[0m, \u001b[38;5;34m7\u001b[0m, \u001b[38;5;34m7\u001b[0m, \u001b[38;5;34m2048\u001b[0m)     │    \u001b[38;5;34m23,587,712\u001b[0m │\n",
              "├─────────────────────────────────┼────────────────────────┼───────────────┤\n",
              "│ global_average_pooling2d_1      │ (\u001b[38;5;45mNone\u001b[0m, \u001b[38;5;34m2048\u001b[0m)           │             \u001b[38;5;34m0\u001b[0m │\n",
              "│ (\u001b[38;5;33mGlobalAveragePooling2D\u001b[0m)        │                        │               │\n",
              "├─────────────────────────────────┼────────────────────────┼───────────────┤\n",
              "│ dense_2 (\u001b[38;5;33mDense\u001b[0m)                 │ (\u001b[38;5;45mNone\u001b[0m, \u001b[38;5;34m128\u001b[0m)            │       \u001b[38;5;34m262,272\u001b[0m │\n",
              "├─────────────────────────────────┼────────────────────────┼───────────────┤\n",
              "│ dropout_2 (\u001b[38;5;33mDropout\u001b[0m)             │ (\u001b[38;5;45mNone\u001b[0m, \u001b[38;5;34m128\u001b[0m)            │             \u001b[38;5;34m0\u001b[0m │\n",
              "├─────────────────────────────────┼────────────────────────┼───────────────┤\n",
              "│ dense_3 (\u001b[38;5;33mDense\u001b[0m)                 │ (\u001b[38;5;45mNone\u001b[0m, \u001b[38;5;34m1\u001b[0m)              │           \u001b[38;5;34m129\u001b[0m │\n",
              "└─────────────────────────────────┴────────────────────────┴───────────────┘\n"
            ],
            "text/html": [
              "<pre style=\"white-space:pre;overflow-x:auto;line-height:normal;font-family:Menlo,'DejaVu Sans Mono',consolas,'Courier New',monospace\">┏━━━━━━━━━━━━━━━━━━━━━━━━━━━━━━━━━┳━━━━━━━━━━━━━━━━━━━━━━━━┳━━━━━━━━━━━━━━━┓\n",
              "┃<span style=\"font-weight: bold\"> Layer (type)                    </span>┃<span style=\"font-weight: bold\"> Output Shape           </span>┃<span style=\"font-weight: bold\">       Param # </span>┃\n",
              "┡━━━━━━━━━━━━━━━━━━━━━━━━━━━━━━━━━╇━━━━━━━━━━━━━━━━━━━━━━━━╇━━━━━━━━━━━━━━━┩\n",
              "│ resnet50 (<span style=\"color: #0087ff; text-decoration-color: #0087ff\">Functional</span>)           │ (<span style=\"color: #00d7ff; text-decoration-color: #00d7ff\">None</span>, <span style=\"color: #00af00; text-decoration-color: #00af00\">7</span>, <span style=\"color: #00af00; text-decoration-color: #00af00\">7</span>, <span style=\"color: #00af00; text-decoration-color: #00af00\">2048</span>)     │    <span style=\"color: #00af00; text-decoration-color: #00af00\">23,587,712</span> │\n",
              "├─────────────────────────────────┼────────────────────────┼───────────────┤\n",
              "│ global_average_pooling2d_1      │ (<span style=\"color: #00d7ff; text-decoration-color: #00d7ff\">None</span>, <span style=\"color: #00af00; text-decoration-color: #00af00\">2048</span>)           │             <span style=\"color: #00af00; text-decoration-color: #00af00\">0</span> │\n",
              "│ (<span style=\"color: #0087ff; text-decoration-color: #0087ff\">GlobalAveragePooling2D</span>)        │                        │               │\n",
              "├─────────────────────────────────┼────────────────────────┼───────────────┤\n",
              "│ dense_2 (<span style=\"color: #0087ff; text-decoration-color: #0087ff\">Dense</span>)                 │ (<span style=\"color: #00d7ff; text-decoration-color: #00d7ff\">None</span>, <span style=\"color: #00af00; text-decoration-color: #00af00\">128</span>)            │       <span style=\"color: #00af00; text-decoration-color: #00af00\">262,272</span> │\n",
              "├─────────────────────────────────┼────────────────────────┼───────────────┤\n",
              "│ dropout_2 (<span style=\"color: #0087ff; text-decoration-color: #0087ff\">Dropout</span>)             │ (<span style=\"color: #00d7ff; text-decoration-color: #00d7ff\">None</span>, <span style=\"color: #00af00; text-decoration-color: #00af00\">128</span>)            │             <span style=\"color: #00af00; text-decoration-color: #00af00\">0</span> │\n",
              "├─────────────────────────────────┼────────────────────────┼───────────────┤\n",
              "│ dense_3 (<span style=\"color: #0087ff; text-decoration-color: #0087ff\">Dense</span>)                 │ (<span style=\"color: #00d7ff; text-decoration-color: #00d7ff\">None</span>, <span style=\"color: #00af00; text-decoration-color: #00af00\">1</span>)              │           <span style=\"color: #00af00; text-decoration-color: #00af00\">129</span> │\n",
              "└─────────────────────────────────┴────────────────────────┴───────────────┘\n",
              "</pre>\n"
            ]
          },
          "metadata": {}
        },
        {
          "output_type": "display_data",
          "data": {
            "text/plain": [
              "\u001b[1m Total params: \u001b[0m\u001b[38;5;34m23,850,113\u001b[0m (90.98 MB)\n"
            ],
            "text/html": [
              "<pre style=\"white-space:pre;overflow-x:auto;line-height:normal;font-family:Menlo,'DejaVu Sans Mono',consolas,'Courier New',monospace\"><span style=\"font-weight: bold\"> Total params: </span><span style=\"color: #00af00; text-decoration-color: #00af00\">23,850,113</span> (90.98 MB)\n",
              "</pre>\n"
            ]
          },
          "metadata": {}
        },
        {
          "output_type": "display_data",
          "data": {
            "text/plain": [
              "\u001b[1m Trainable params: \u001b[0m\u001b[38;5;34m262,401\u001b[0m (1.00 MB)\n"
            ],
            "text/html": [
              "<pre style=\"white-space:pre;overflow-x:auto;line-height:normal;font-family:Menlo,'DejaVu Sans Mono',consolas,'Courier New',monospace\"><span style=\"font-weight: bold\"> Trainable params: </span><span style=\"color: #00af00; text-decoration-color: #00af00\">262,401</span> (1.00 MB)\n",
              "</pre>\n"
            ]
          },
          "metadata": {}
        },
        {
          "output_type": "display_data",
          "data": {
            "text/plain": [
              "\u001b[1m Non-trainable params: \u001b[0m\u001b[38;5;34m23,587,712\u001b[0m (89.98 MB)\n"
            ],
            "text/html": [
              "<pre style=\"white-space:pre;overflow-x:auto;line-height:normal;font-family:Menlo,'DejaVu Sans Mono',consolas,'Courier New',monospace\"><span style=\"font-weight: bold\"> Non-trainable params: </span><span style=\"color: #00af00; text-decoration-color: #00af00\">23,587,712</span> (89.98 MB)\n",
              "</pre>\n"
            ]
          },
          "metadata": {}
        }
      ]
    },
    {
      "cell_type": "code",
      "source": [
        "callbacks = [\n",
        "    tf.keras.callbacks.ModelCheckpoint(\"brain_stroke_resnet.keras\", save_best_only=True, monitor='val_loss'),\n",
        "    tf.keras.callbacks.EarlyStopping(monitor='val_loss', patience=4, restore_best_weights=True)\n",
        "]\n",
        "\n",
        "history = model.fit(\n",
        "    train_generator,\n",
        "    validation_data=val_generator,\n",
        "    epochs=25,\n",
        "    callbacks=callbacks\n",
        ")"
      ],
      "metadata": {
        "colab": {
          "base_uri": "https://localhost:8080/"
        },
        "id": "Se-NQ9t8jLhr",
        "outputId": "17ec96a4-110c-44c1-d3a8-70852fdd2df6"
      },
      "execution_count": 18,
      "outputs": [
        {
          "output_type": "stream",
          "name": "stdout",
          "text": [
            "Epoch 1/25\n",
            "\u001b[1m126/126\u001b[0m \u001b[32m━━━━━━━━━━━━━━━━━━━━\u001b[0m\u001b[37m\u001b[0m \u001b[1m56s\u001b[0m 363ms/step - accuracy: 0.5748 - loss: 0.8853 - val_accuracy: 0.6160 - val_loss: 0.6634\n",
            "Epoch 2/25\n",
            "\u001b[1m126/126\u001b[0m \u001b[32m━━━━━━━━━━━━━━━━━━━━\u001b[0m\u001b[37m\u001b[0m \u001b[1m36s\u001b[0m 289ms/step - accuracy: 0.6344 - loss: 0.6577 - val_accuracy: 0.6200 - val_loss: 0.6534\n",
            "Epoch 3/25\n",
            "\u001b[1m126/126\u001b[0m \u001b[32m━━━━━━━━━━━━━━━━━━━━\u001b[0m\u001b[37m\u001b[0m \u001b[1m41s\u001b[0m 290ms/step - accuracy: 0.6388 - loss: 0.6359 - val_accuracy: 0.6160 - val_loss: 0.6443\n",
            "Epoch 4/25\n",
            "\u001b[1m126/126\u001b[0m \u001b[32m━━━━━━━━━━━━━━━━━━━━\u001b[0m\u001b[37m\u001b[0m \u001b[1m36s\u001b[0m 287ms/step - accuracy: 0.6474 - loss: 0.6171 - val_accuracy: 0.6200 - val_loss: 0.6440\n",
            "Epoch 5/25\n",
            "\u001b[1m126/126\u001b[0m \u001b[32m━━━━━━━━━━━━━━━━━━━━\u001b[0m\u001b[37m\u001b[0m \u001b[1m35s\u001b[0m 281ms/step - accuracy: 0.6503 - loss: 0.6109 - val_accuracy: 0.6000 - val_loss: 0.6510\n",
            "Epoch 6/25\n",
            "\u001b[1m126/126\u001b[0m \u001b[32m━━━━━━━━━━━━━━━━━━━━\u001b[0m\u001b[37m\u001b[0m \u001b[1m35s\u001b[0m 278ms/step - accuracy: 0.6686 - loss: 0.5803 - val_accuracy: 0.6320 - val_loss: 0.6491\n",
            "Epoch 7/25\n",
            "\u001b[1m126/126\u001b[0m \u001b[32m━━━━━━━━━━━━━━━━━━━━\u001b[0m\u001b[37m\u001b[0m \u001b[1m35s\u001b[0m 281ms/step - accuracy: 0.6737 - loss: 0.5955 - val_accuracy: 0.6220 - val_loss: 0.6638\n",
            "Epoch 8/25\n",
            "\u001b[1m126/126\u001b[0m \u001b[32m━━━━━━━━━━━━━━━━━━━━\u001b[0m\u001b[37m\u001b[0m \u001b[1m39s\u001b[0m 310ms/step - accuracy: 0.6679 - loss: 0.5742 - val_accuracy: 0.6420 - val_loss: 0.6319\n",
            "Epoch 9/25\n",
            "\u001b[1m126/126\u001b[0m \u001b[32m━━━━━━━━━━━━━━━━━━━━\u001b[0m\u001b[37m\u001b[0m \u001b[1m38s\u001b[0m 303ms/step - accuracy: 0.6880 - loss: 0.5732 - val_accuracy: 0.6200 - val_loss: 0.6475\n",
            "Epoch 10/25\n",
            "\u001b[1m126/126\u001b[0m \u001b[32m━━━━━━━━━━━━━━━━━━━━\u001b[0m\u001b[37m\u001b[0m \u001b[1m36s\u001b[0m 284ms/step - accuracy: 0.6602 - loss: 0.5806 - val_accuracy: 0.6400 - val_loss: 0.6351\n",
            "Epoch 11/25\n",
            "\u001b[1m126/126\u001b[0m \u001b[32m━━━━━━━━━━━━━━━━━━━━\u001b[0m\u001b[37m\u001b[0m \u001b[1m37s\u001b[0m 291ms/step - accuracy: 0.7156 - loss: 0.5633 - val_accuracy: 0.6280 - val_loss: 0.6275\n",
            "Epoch 12/25\n",
            "\u001b[1m126/126\u001b[0m \u001b[32m━━━━━━━━━━━━━━━━━━━━\u001b[0m\u001b[37m\u001b[0m \u001b[1m36s\u001b[0m 284ms/step - accuracy: 0.6951 - loss: 0.5385 - val_accuracy: 0.6440 - val_loss: 0.6839\n",
            "Epoch 13/25\n",
            "\u001b[1m126/126\u001b[0m \u001b[32m━━━━━━━━━━━━━━━━━━━━\u001b[0m\u001b[37m\u001b[0m \u001b[1m35s\u001b[0m 281ms/step - accuracy: 0.7258 - loss: 0.5346 - val_accuracy: 0.6600 - val_loss: 0.6777\n",
            "Epoch 14/25\n",
            "\u001b[1m126/126\u001b[0m \u001b[32m━━━━━━━━━━━━━━━━━━━━\u001b[0m\u001b[37m\u001b[0m \u001b[1m36s\u001b[0m 284ms/step - accuracy: 0.7388 - loss: 0.5116 - val_accuracy: 0.6440 - val_loss: 0.7163\n",
            "Epoch 15/25\n",
            "\u001b[1m126/126\u001b[0m \u001b[32m━━━━━━━━━━━━━━━━━━━━\u001b[0m\u001b[37m\u001b[0m \u001b[1m36s\u001b[0m 283ms/step - accuracy: 0.7182 - loss: 0.5339 - val_accuracy: 0.6480 - val_loss: 0.6438\n"
          ]
        }
      ]
    },
    {
      "cell_type": "code",
      "source": [
        "# Evaluation on validation set (acts as test if you didn't set aside test)\n",
        "val_steps = val_generator.samples // batch_size + 1\n",
        "val_generator.reset()\n",
        "pred_probs = model.predict(val_generator, steps=val_steps, verbose=1)"
      ],
      "metadata": {
        "colab": {
          "base_uri": "https://localhost:8080/"
        },
        "id": "9JINEr1yjndx",
        "outputId": "d9081308-af51-46f7-cd74-c6e4646fd941"
      },
      "execution_count": 19,
      "outputs": [
        {
          "output_type": "stream",
          "name": "stdout",
          "text": [
            "\u001b[1m32/32\u001b[0m \u001b[32m━━━━━━━━━━━━━━━━━━━━\u001b[0m\u001b[37m\u001b[0m \u001b[1m15s\u001b[0m 343ms/step\n"
          ]
        }
      ]
    },
    {
      "cell_type": "code",
      "source": [
        "y_true = val_generator.classes[:len(pred_probs)]\n",
        "y_scores = pred_probs.ravel()[:len(y_true)]\n",
        "y_pred = (y_scores >= 0.5).astype(int)"
      ],
      "metadata": {
        "id": "bDHjN3yIvqqa"
      },
      "execution_count": 21,
      "outputs": []
    },
    {
      "cell_type": "code",
      "source": [
        "print(\"\\nClassification report (validation):\")\n",
        "print(classification_report(y_true, y_pred, target_names=list(train_generator.class_indices.keys())))"
      ],
      "metadata": {
        "colab": {
          "base_uri": "https://localhost:8080/"
        },
        "id": "DI9Kd06CvrQ8",
        "outputId": "06b2aabb-d800-42aa-8387-21245f5e6643"
      },
      "execution_count": 22,
      "outputs": [
        {
          "output_type": "stream",
          "name": "stdout",
          "text": [
            "\n",
            "Classification report (validation):\n",
            "              precision    recall  f1-score   support\n",
            "\n",
            "      Normal       0.61      0.85      0.71       310\n",
            "      Stroke       0.34      0.13      0.19       190\n",
            "\n",
            "    accuracy                           0.57       500\n",
            "   macro avg       0.48      0.49      0.45       500\n",
            "weighted avg       0.51      0.57      0.51       500\n",
            "\n"
          ]
        }
      ]
    },
    {
      "cell_type": "code",
      "source": [
        "cm = confusion_matrix(y_true, y_pred)\n",
        "plt.figure(figsize=(5,4))\n",
        "sns.heatmap(cm, annot=True, fmt='d', xticklabels=list(train_generator.class_indices.keys()),\n",
        "            yticklabels=list(train_generator.class_indices.keys()))\n",
        "plt.xlabel('Predicted')\n",
        "plt.ylabel('True')\n",
        "plt.title('Confusion Matrix (validation)')\n",
        "plt.show()"
      ],
      "metadata": {
        "colab": {
          "base_uri": "https://localhost:8080/",
          "height": 410
        },
        "id": "WTTzSKC6wAFo",
        "outputId": "51904f8e-cc52-404e-f9ca-f31ba6e96366"
      },
      "execution_count": 23,
      "outputs": [
        {
          "output_type": "display_data",
          "data": {
            "text/plain": [
              "<Figure size 500x400 with 2 Axes>"
            ],
            "image/png": "[encoded data removed]"
          },
          "metadata": {}
        }
      ]
    },
    {
      "cell_type": "code",
      "source": [
        "# (Optional) Fine-tuning: unfreeze part of base_model and train with low lr\n",
        "def fine_tune(model, base_model, unfreeze_from_layer_name='conv4_block1_0_conv', lr=1e-5, epochs=5):\n",
        "    # Unfreeze layers from a named layer (or by index). Here we show unfreezing last conv block.\n",
        "    set_trainable = False\n",
        "    for layer in base_model.layers:\n",
        "        if layer.name == unfreeze_from_layer_name:\n",
        "            set_trainable = True\n",
        "        if set_trainable:\n",
        "            layer.trainable = True\n",
        "    model.compile(\n",
        "        optimizer=tf.keras.optimizers.Adam(learning_rate=lr),\n",
        "        loss='binary_crossentropy',\n",
        "        metrics=['accuracy']\n",
        "    )\n",
        "    print(\"Trainable layers after unfreezing:\")\n",
        "    for i,layer in enumerate(base_model.layers[-20:], start=1):\n",
        "        print(i, layer.name, layer.trainable)\n",
        "    history_ft = model.fit(\n",
        "        train_generator,\n",
        "        validation_data=val_generator,\n",
        "        epochs=epochs,\n",
        "        callbacks=[tf.keras.callbacks.EarlyStopping(monitor='val_loss', patience=3, restore_best_weights=True)]\n",
        "    )\n",
        "    return history_ft\n"
      ],
      "metadata": {
        "id": "Ta7SUNzgweMI"
      },
      "execution_count": 24,
      "outputs": []
    },
    {
      "cell_type": "code",
      "source": [
        "history_ft = fine_tune(model, base_model, unfreeze_from_layer_name='conv4_block1_0_conv', lr=1e-5, epochs=5)"
      ],
      "metadata": {
        "colab": {
          "base_uri": "https://localhost:8080/"
        },
        "id": "xXpsszPSwkEM",
        "outputId": "bb600f34-7e9b-487b-e6db-95e19e0afa6f"
      },
      "execution_count": 25,
      "outputs": [
        {
          "output_type": "stream",
          "name": "stdout",
          "text": [
            "Trainable layers after unfreezing:\n",
            "1 conv5_block2_1_conv True\n",
            "2 conv5_block2_1_bn True\n",
            "3 conv5_block2_1_relu True\n",
            "4 conv5_block2_2_conv True\n",
            "5 conv5_block2_2_bn True\n",
            "6 conv5_block2_2_relu True\n",
            "7 conv5_block2_3_conv True\n",
            "8 conv5_block2_3_bn True\n",
            "9 conv5_block2_add True\n",
            "10 conv5_block2_out True\n",
            "11 conv5_block3_1_conv True\n",
            "12 conv5_block3_1_bn True\n",
            "13 conv5_block3_1_relu True\n",
            "14 conv5_block3_2_conv True\n",
            "15 conv5_block3_2_bn True\n",
            "16 conv5_block3_2_relu True\n",
            "17 conv5_block3_3_conv True\n",
            "18 conv5_block3_3_bn True\n",
            "19 conv5_block3_add True\n",
            "20 conv5_block3_out True\n",
            "Epoch 1/5\n",
            "\u001b[1m126/126\u001b[0m \u001b[32m━━━━━━━━━━━━━━━━━━━━\u001b[0m\u001b[37m\u001b[0m \u001b[1m99s\u001b[0m 525ms/step - accuracy: 0.6939 - loss: 0.5775 - val_accuracy: 0.6500 - val_loss: 0.7255\n",
            "Epoch 2/5\n",
            "\u001b[1m126/126\u001b[0m \u001b[32m━━━━━━━━━━━━━━━━━━━━\u001b[0m\u001b[37m\u001b[0m \u001b[1m40s\u001b[0m 317ms/step - accuracy: 0.7503 - loss: 0.4952 - val_accuracy: 0.6540 - val_loss: 0.7387\n",
            "Epoch 3/5\n",
            "\u001b[1m126/126\u001b[0m \u001b[32m━━━━━━━━━━━━━━━━━━━━\u001b[0m\u001b[37m\u001b[0m \u001b[1m40s\u001b[0m 310ms/step - accuracy: 0.7826 - loss: 0.4457 - val_accuracy: 0.6760 - val_loss: 0.7688\n",
            "Epoch 4/5\n",
            "\u001b[1m126/126\u001b[0m \u001b[32m━━━━━━━━━━━━━━━━━━━━\u001b[0m\u001b[37m\u001b[0m \u001b[1m38s\u001b[0m 300ms/step - accuracy: 0.8046 - loss: 0.4086 - val_accuracy: 0.6620 - val_loss: 0.8588\n"
          ]
        }
      ]
    },
    {
      "cell_type": "code",
      "source": [
        "val_steps = val_generator.samples // batch_size + 1\n",
        "val_generator.reset()\n",
        "pred_probs = model.predict(val_generator, steps=val_steps, verbose=1)\n",
        "# flow_from_directory yields batches; we used binary class_mode so labels are in val_generator.classes\n",
        "y_true = val_generator.classes[:len(pred_probs)]\n",
        "y_scores = pred_probs.ravel()[:len(y_true)]\n",
        "y_pred = (y_scores >= 0.5).astype(int)\n",
        "\n",
        "print(\"\\nClassification report (validation):\")\n",
        "print(classification_report(y_true, y_pred, target_names=list(train_generator.class_indices.keys())))\n"
      ],
      "metadata": {
        "colab": {
          "base_uri": "https://localhost:8080/"
        },
        "id": "vAB2a3ws08kk",
        "outputId": "90c8bb13-af9e-4aea-aed2-e60ac26fc13d"
      },
      "execution_count": 46,
      "outputs": [
        {
          "output_type": "stream",
          "name": "stdout",
          "text": [
            "\u001b[1m32/32\u001b[0m \u001b[32m━━━━━━━━━━━━━━━━━━━━\u001b[0m\u001b[37m\u001b[0m \u001b[1m15s\u001b[0m 345ms/step\n",
            "\n",
            "Classification report (validation):\n",
            "              precision    recall  f1-score   support\n",
            "\n",
            "      Normal       0.63      0.92      0.75       310\n",
            "      Stroke       0.47      0.11      0.18       190\n",
            "\n",
            "    accuracy                           0.61       500\n",
            "   macro avg       0.55      0.52      0.46       500\n",
            "weighted avg       0.57      0.61      0.53       500\n",
            "\n"
          ]
        }
      ]
    },
    {
      "cell_type": "code",
      "source": [
        "normal = os.path.join(data_dir, 'Normal')\n",
        "stroke = os.path.join(data_dir, 'Stroke')"
      ],
      "metadata": {
        "id": "9LwNUU3Xztux"
      },
      "execution_count": 40,
      "outputs": []
    },
    {
      "cell_type": "code",
      "source": [
        "from tensorflow.keras.preprocessing import image\n",
        "def predict_ct(img_path, model, img_size=img_size, threshold=0.5):\n",
        "    img = image.load_img(img_path, target_size=img_size, color_mode='rgb')\n",
        "    arr = image.img_to_array(img)\n",
        "    arr = np.expand_dims(arr, axis=0)\n",
        "    arr = preprocess_input(arr)\n",
        "    prob = float(model.predict(arr)[0][0])\n",
        "    label = 'Stroke' if prob >= threshold else 'Normal'\n",
        "    return {\"label\": label, \"probability\": prob}"
      ],
      "metadata": {
        "id": "7Bopb54dw50g"
      },
      "execution_count": 44,
      "outputs": []
    },
    {
      "cell_type": "code",
      "source": [
        "# Example:\n",
        "print(predict_ct(os.path.join(normal, os.listdir(normal)[0]), model))\n",
        "print(predict_ct(os.path.join(stroke, os.listdir(stroke)[0]), model))"
      ],
      "metadata": {
        "colab": {
          "base_uri": "https://localhost:8080/"
        },
        "id": "Fezuc_Li0TBv",
        "outputId": "0fba0490-b878-4b6c-a233-df3e6d567411"
      },
      "execution_count": 43,
      "outputs": [
        {
          "output_type": "stream",
          "name": "stdout",
          "text": [
            "\u001b[1m1/1\u001b[0m \u001b[32m━━━━━━━━━━━━━━━━━━━━\u001b[0m\u001b[37m\u001b[0m \u001b[1m0s\u001b[0m 42ms/step\n",
            "{'label': 'Normal', 'probability': 0.07503720372915268}\n",
            "\u001b[1m1/1\u001b[0m \u001b[32m━━━━━━━━━━━━━━━━━━━━\u001b[0m\u001b[37m\u001b[0m \u001b[1m0s\u001b[0m 49ms/step\n",
            "{'label': 'Stroke', 'probability': 0.5466054081916809}\n"
          ]
        }
      ]
    }
  ]
}