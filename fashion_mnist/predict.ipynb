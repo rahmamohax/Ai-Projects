{
 "cells": [
  {
   "cell_type": "code",
   "execution_count": 13,
   "id": "cab8c208",
   "metadata": {},
   "outputs": [
    {
     "name": "stderr",
     "output_type": "stream",
     "text": [
      "WARNING:absl:Compiled the loaded model, but the compiled metrics have yet to be built. `model.compile_metrics` will be empty until you train or evaluate the model.\n"
     ]
    },
    {
     "name": "stdout",
     "output_type": "stream",
     "text": [
      "\u001b[1m1/1\u001b[0m \u001b[32m━━━━━━━━━━━━━━━━━━━━\u001b[0m\u001b[37m\u001b[0m \u001b[1m0s\u001b[0m 60ms/step\n",
      "Predicted class: 2\n"
     ]
    }
   ],
   "source": [
    "from keras.preprocessing.image import load_img as keras_load_img\n",
    "from keras.preprocessing.image import img_to_array\n",
    "from keras.models import load_model\n",
    "import numpy as np\n",
    "\n",
    "def load_img(filename):\n",
    "    img = keras_load_img(filename, color_mode='grayscale', target_size=(28, 28))\n",
    "    img=img_to_array(img)\n",
    "    #reshape image to single sample with one channel\n",
    "    img= img.reshape(1,28,28,1)\n",
    "    #preparing to pixel da  ta\n",
    "    img = img.astype(\"float32\") / 255.0\n",
    "    return img\n",
    "\n",
    "def run_example():\n",
    "    #loading data\n",
    "    img = load_img('sample_image.webp')\n",
    "    model= load_model('model.h5')\n",
    "    # predict class\n",
    "    predictions = model.predict(img)\n",
    "    predicted_class = np.argmax(predictions, axis=1)  # Get class index with highest probability\n",
    "    \n",
    "    print(\"Predicted class:\", predicted_class[0])\n",
    "\n",
    "\n",
    "\n",
    "run_example()\n",
    "\n"
   ]
  }
 ],
 "metadata": {
  "kernelspec": {
   "display_name": "Python 3",
   "language": "python",
   "name": "python3"
  },
  "language_info": {
   "codemirror_mode": {
    "name": "ipython",
    "version": 3
   },
   "file_extension": ".py",
   "mimetype": "text/x-python",
   "name": "python",
   "nbconvert_exporter": "python",
   "pygments_lexer": "ipython3",
   "version": "3.11.7"
  }
 },
 "nbformat": 4,
 "nbformat_minor": 5
}
